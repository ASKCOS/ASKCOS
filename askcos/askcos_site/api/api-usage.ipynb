{
 "cells": [
  {
   "cell_type": "code",
   "execution_count": 1,
   "metadata": {},
   "outputs": [],
   "source": [
    "import requests\n",
    "from pprint import pprint"
   ]
  },
  {
   "cell_type": "code",
   "execution_count": 2,
   "metadata": {},
   "outputs": [],
   "source": [
    "HOST = 'http://<your-askcos-ip>'"
   ]
  },
  {
   "cell_type": "markdown",
   "metadata": {},
   "source": [
    "# ASKCOS Web API"
   ]
  },
  {
   "cell_type": "markdown",
   "metadata": {},
   "source": [
    "## Endpoints"
   ]
  },
  {
   "cell_type": "markdown",
   "metadata": {},
   "source": [
    "API endpoints exist for the following services (described in more depth below):\n",
    "\n",
    "|Endpoint|Description|\n",
    "|:---|---:|\n",
    "|/api/retro/|Single-step retrosynthetic prediction for a given target molecule|\n",
    "|/api/context/|Context recommender for a reaction|\n",
    "|/api/forward/|Reaction (product) prediction given reactants and context|\n",
    "|/api/treebuilder/|Synthetic pathway tree builder|\n",
    "|/api/template/|Retrosynthetic template lookup|\n",
    "|/api/fast-filter/|Coarse-filter for reactions plausibility|\n",
    "|/api/scscore/|Synthetic complexity score|\n",
    "|/api/price/|Buyable price|\n",
    "|/api/celery/|Query the status of the celery workers|"
   ]
  },
  {
   "cell_type": "markdown",
   "metadata": {},
   "source": [
    "## Making requests"
   ]
  },
  {
   "cell_type": "markdown",
   "metadata": {},
   "source": [
    "GET requests can be made passing in required and optional parameters (service-specific parameters are described below for each endpoint). In many cases, you will be providing SMILES strings, which often may not play well with HTTP. You should always escape your parameters. In the examples below, the `requests` python package allows you to provide the parameters as a dictionary of key-value pairs and takes care of the url escaping for you. If you create your own url queries, please remember to escape your SMILES strings."
   ]
  },
  {
   "cell_type": "markdown",
   "metadata": {},
   "source": [
    "Internally, the code behind the API will be converting any SMILES string you provide to a canonicalized SMILES string. Therefore, the results returned by the API may include a slightly modified string than the result parameters you provided. Keep note of this if using SMILES string searching to parse through results."
   ]
  },
  {
   "cell_type": "markdown",
   "metadata": {},
   "source": [
    "In the examples below, a dictionary named `params` will be built to contain the parameters for each service. `requests.get` will be used, giving the API endpoint and the params dictionary. This returns a `Response` object, and the final results can be obtained using `Response.json()`. The `pprint` module is used to nicely format the JSON results."
   ]
  },
  {
   "cell_type": "markdown",
   "metadata": {},
   "source": [
    "For each `params` dictionary, required key-value pairs will be identified with `# required`, and the rest of the values can be considered optional, as the values used here are the default values used (unless otherwise stated). In these examples, the number of results being returned is being significantly decreased to make this document more readable."
   ]
  },
  {
   "cell_type": "markdown",
   "metadata": {},
   "source": [
    "## /api/retro/  \n",
    "Given a `target` SMILES string, predict precursors. The optional settings adjust how precursors are generated, or filtered after generation.  \n",
    "  \n",
    "The response will be a json with the original request variables as well as `precursors`, a list of the suggested results. The actualsuggested precursor smiles strings are stored in `smiles` (molecules concatenated with '.'), and `smiles_split` (list of molecules)."
   ]
  },
  {
   "cell_type": "code",
   "execution_count": 3,
   "metadata": {},
   "outputs": [
    {
     "name": "stdout",
     "output_type": "stream",
     "text": [
      "{u'precursors': [{u'necessary_reagent': u'',\n",
      "                  u'num_examples': 1223,\n",
      "                  u'plausibility': 0.998188316822052,\n",
      "                  u'rank': 1,\n",
      "                  u'score': -0.005976811431568982,\n",
      "                  u'smiles': u'CN(C)CCCl.OC(c1ccccc1)c1ccccc1',\n",
      "                  u'smiles_split': [u'CN(C)CCCl', u'OC(c1ccccc1)c1ccccc1'],\n",
      "                  u'template_score': 0.33462658524513245,\n",
      "                  u'templates': [u'59c5118c05581eb9f5753c93',\n",
      "                                 u'59c5118c05581eb9f5753c9d']},\n",
      "                 {u'necessary_reagent': u'',\n",
      "                  u'num_examples': 915,\n",
      "                  u'plausibility': 0.9775225520133972,\n",
      "                  u'rank': 2,\n",
      "                  u'score': -0.011262814101429644,\n",
      "                  u'smiles': u'CN(C)CCO.OC(c1ccccc1)c1ccccc1',\n",
      "                  u'smiles_split': [u'CN(C)CCO', u'OC(c1ccccc1)c1ccccc1'],\n",
      "                  u'template_score': 0.1775755137205124,\n",
      "                  u'templates': [u'59c5118d05581eb9f5753db4',\n",
      "                                 u'59c511de05581eb9f5758a9b',\n",
      "                                 u'59c5122205581eb9f575c32d']},\n",
      "                 {u'necessary_reagent': u'',\n",
      "                  u'num_examples': 230,\n",
      "                  u'plausibility': 0.9893513321876526,\n",
      "                  u'rank': 3,\n",
      "                  u'score': -0.013463378679132122,\n",
      "                  u'smiles': u'CN(C)CCO.ClC(c1ccccc1)c1ccccc1',\n",
      "                  u'smiles_split': [u'CN(C)CCO', u'ClC(c1ccccc1)c1ccccc1'],\n",
      "                  u'template_score': 0.1485511213541031,\n",
      "                  u'templates': [u'59c5118e05581eb9f5753df3']}],\n",
      " u'request': {u'apply_fast_filter': [u'True'],\n",
      "              u'filter_threshold': [u'0.75'],\n",
      "              u'max_cum_prob': [u'0.995'],\n",
      "              u'mincount': [u'0'],\n",
      "              u'num_results': [u'3'],\n",
      "              u'num_templates': [u'100'],\n",
      "              u'precursor_prioritization': [u'RelevanceHeuristic'],\n",
      "              u'target': [u'CN(C)CCOC(c1ccccc1)c1ccccc1'],\n",
      "              u'template_prioritization': [u'Relevance']}}\n"
     ]
    }
   ],
   "source": [
    "params = {\n",
    "    # required\n",
    "    'target': 'CN(C)CCOC(c1ccccc1)c1ccccc1',\n",
    "    \n",
    "    # optional with defaults shown\n",
    "    'template_prioritization': 'Relevance',\n",
    "    'precursor_prioritization': 'RelevanceHeuristic',\n",
    "    'mincount': 0,\n",
    "    'num_templates': 100,\n",
    "    'max_cum_prob': 0.995,\n",
    "    'apply_fast_filter': True,\n",
    "    'filter_threshold': 0.75,\n",
    "    \n",
    "    # modified for this example\n",
    "    'num_results': 3 # default is 100\n",
    "}\n",
    "resp = requests.get(HOST+'/api/retro/', params=params)\n",
    "pprint(resp.json())"
   ]
  },
  {
   "cell_type": "markdown",
   "metadata": {},
   "source": [
    "## /api/context/\n",
    "Given `reactants` and `products`, suggest reaction contexts (catalyst, reagents, solvents, and temperature). The response will have `contexts`, a list of each suggested context in order of recommendation. The maximum number of results that can be returned is 18."
   ]
  },
  {
   "cell_type": "code",
   "execution_count": 4,
   "metadata": {},
   "outputs": [
    {
     "name": "stdout",
     "output_type": "stream",
     "text": [
      "{u'contexts': [{u'catalyst': u'',\n",
      "                u'reagent': u'Cc1ccccc1.[H][N-][H].[Na+]',\n",
      "                u'solvent': u'',\n",
      "                u'temperature': 94.47986602783203},\n",
      "               {u'catalyst': u'',\n",
      "                u'reagent': u'c1ccccc1.[H][N-][H].[Na+]',\n",
      "                u'solvent': u'',\n",
      "                u'temperature': 101.66519927978516},\n",
      "               {u'catalyst': u'',\n",
      "                u'reagent': u'Cc1ccccc1C.[H][N-][H].[Na+]',\n",
      "                u'solvent': u'',\n",
      "                u'temperature': 124.40973663330078},\n",
      "               {u'catalyst': u'',\n",
      "                u'reagent': u'',\n",
      "                u'solvent': u'Cc1ccccc1',\n",
      "                u'temperature': 109.34732818603516},\n",
      "               {u'catalyst': u'',\n",
      "                u'reagent': u'',\n",
      "                u'solvent': u'c1ccccc1',\n",
      "                u'temperature': 102.02490997314453}],\n",
      " u'request': {u'num_results': [u'5'],\n",
      "              u'products': [u'CN(C)CCOC(c1ccccc1)c1ccccc1'],\n",
      "              u'reactants': [u'CN(C)CCCl.OC(c1ccccc1)c1ccccc1']}}\n"
     ]
    }
   ],
   "source": [
    "params = {\n",
    "    'reactants': 'CN(C)CCCl.OC(c1ccccc1)c1ccccc1', #required\n",
    "    'products': 'CN(C)CCOC(c1ccccc1)c1ccccc1', #required\n",
    "    \n",
    "    'num_results': 5 # default is 10\n",
    "}\n",
    "resp = requests.get(HOST+'/api/context/', params=params)\n",
    "pprint(resp.json())"
   ]
  },
  {
   "cell_type": "markdown",
   "metadata": {},
   "source": [
    "## /api/forward/\n",
    "Given `reactants`, and optionally `reagents` and `solvent`, suggest probably products. The response will have `outcomes`, with `smiles` of the product, `prob` (probability) of this being the major product, and relative `score` for reach suggestion."
   ]
  },
  {
   "cell_type": "code",
   "execution_count": 5,
   "metadata": {},
   "outputs": [
    {
     "name": "stdout",
     "output_type": "stream",
     "text": [
      "{u'outcomes': [{u'prob': 0.9115045729462279,\n",
      "                u'rank': 1,\n",
      "                u'score': -63.30739974975586,\n",
      "                u'smiles': u'CN(C)CCOC(c1ccccc1)c1ccccc1'},\n",
      "               {u'prob': 0.08476252957902111,\n",
      "                u'rank': 2,\n",
      "                u'score': -65.68751525878906,\n",
      "                u'smiles': u'c1ccc(Cc2ccccc2)cc1'},\n",
      "               {u'prob': 0.001807120522928764,\n",
      "                u'rank': 3,\n",
      "                u'score': -69.53076171875,\n",
      "                u'smiles': u'CN(C)CCC(c1ccccc1)c1ccccc1'},\n",
      "               {u'prob': 0.0007843034232317958,\n",
      "                u'rank': 4,\n",
      "                u'score': -70.3654556274414,\n",
      "                u'smiles': u'CN(C)CCC(O)(c1ccccc1)c1ccccc1'},\n",
      "               {u'prob': 0.00048256904206722353,\n",
      "                u'rank': 5,\n",
      "                u'score': -70.85112762451172,\n",
      "                u'smiles': u'CCN(C)C'}],\n",
      " u'request': {u'num_results': [u'5'],\n",
      "              u'reactants': [u'CN(C)CCCl.OC(c1ccccc1)c1ccccc1'],\n",
      "              u'reagents': [u''],\n",
      "              u'solvent': [u'']}}\n"
     ]
    }
   ],
   "source": [
    "params = {\n",
    "    'reactants': 'CN(C)CCCl.OC(c1ccccc1)c1ccccc1', #required\n",
    "    \n",
    "    # optional with defaults shown\n",
    "    'reagents': '',\n",
    "    'solvent': '',\n",
    "    \n",
    "    'num_results': 5 # default is 100\n",
    "}\n",
    "resp = requests.get(HOST+'/api/forward/?', params=params)\n",
    "pprint(resp.json())"
   ]
  },
  {
   "cell_type": "markdown",
   "metadata": {},
   "source": [
    "## /api/treebuilder/\n",
    "Given the `smiles` of a target molecule, and various optional settings, resolve possible synthetic pathways terminating according to the stopping criteria provided through settings. The results are structued as a nested dictionary, where the children of chemicals are reactions and the children of reactions are chemicals."
   ]
  },
  {
   "cell_type": "code",
   "execution_count": 6,
   "metadata": {},
   "outputs": [
    {
     "name": "stdout",
     "output_type": "stream",
     "text": [
      "{u'request': {u'chemical_popularity_logic': [u'none'],\n",
      "              u'chemical_property_logic': [u'none'],\n",
      "              u'expansion_time': [u'60'],\n",
      "              u'filter_threshold': [u'0.75'],\n",
      "              u'max_branching': [u'25'],\n",
      "              u'max_chemprop_c': [u'0'],\n",
      "              u'max_chemprop_h': [u'0'],\n",
      "              u'max_chemprop_n': [u'0'],\n",
      "              u'max_chemprop_o': [u'0'],\n",
      "              u'max_cum_prob': [u'0.995'],\n",
      "              u'max_depth': [u'4'],\n",
      "              u'max_ppg': [u'10'],\n",
      "              u'min_chempop_products': [u'5'],\n",
      "              u'min_chempop_reactants': [u'5'],\n",
      "              u'return_first': [u'true'],\n",
      "              u'smiles': [u'CN(C)CCOC(c1ccccc1)c1ccccc1'],\n",
      "              u'template_count': [u'100']},\n",
      " u'trees': [{u'as_product': 44,\n",
      "             u'as_reactant': 59,\n",
      "             u'children': [{u'children': [{u'as_product': 102,\n",
      "                                           u'as_reactant': 2438,\n",
      "                                           u'children': [],\n",
      "                                           u'id': 1,\n",
      "                                           u'is_chemical': True,\n",
      "                                           u'ppg': 1.0,\n",
      "                                           u'smiles': u'BrC(c1ccccc1)c1ccccc1'},\n",
      "                                          {u'as_product': 383,\n",
      "                                           u'as_reactant': 3643,\n",
      "                                           u'children': [],\n",
      "                                           u'id': 2,\n",
      "                                           u'is_chemical': True,\n",
      "                                           u'ppg': 1.0,\n",
      "                                           u'smiles': u'CN(C)CCO'}],\n",
      "                            u'id': 3,\n",
      "                            u'is_reaction': True,\n",
      "                            u'necessary_reagent': u'',\n",
      "                            u'num_examples': 185,\n",
      "                            u'plausibility': 0.9988686442375183,\n",
      "                            u'smiles': u'BrC(c1ccccc1)c1ccccc1.CN(C)CCO>>CN(C)CCOC(c1ccccc1)c1ccccc1',\n",
      "                            u'template_score': 0.07315371185541153,\n",
      "                            u'tforms': [u'59c5118d05581eb9f5753dbf']}],\n",
      "             u'id': 4,\n",
      "             u'is_chemical': True,\n",
      "             u'ppg': 1.0,\n",
      "             u'smiles': u'CN(C)CCOC(c1ccccc1)c1ccccc1'}]}\n"
     ]
    }
   ],
   "source": [
    "params = {\n",
    "    'smiles': 'CN(C)CCOC(c1ccccc1)c1ccccc1', # required\n",
    "    \n",
    "    # optional with defaults shown\n",
    "    'max_depth': 4,\n",
    "    'max_branching': 25,\n",
    "    'expansion_time': 60,\n",
    "    'max_ppg': 10,\n",
    "    'template_count': 100,\n",
    "    'max_cum_prob': 0.995,\n",
    "    'chemical_property_logic': 'none',\n",
    "    'max_chemprop_c': 0,\n",
    "    'max_chemprop_n': 0,\n",
    "    'max_chemprop_o': 0,\n",
    "    'max_chemprop_h': 0,\n",
    "    'chemical_popularity_logic': 'none',\n",
    "    'min_chempop_reactants': 5,\n",
    "    'min_chempop_products': 5,\n",
    "    'filter_threshold': 0.75,\n",
    "    \n",
    "    'return_first': 'true' # default is false\n",
    "}\n",
    "resp = requests.get(HOST+'/api/treebuilder/', params=params)\n",
    "pprint(resp.json())"
   ]
  },
  {
   "cell_type": "markdown",
   "metadata": {},
   "source": [
    "## /api/template/\n",
    "Given a template `id` (these are returned with `/api/retro/` precursors) look up template details, such as `reaction_smarts`, and `references` (Reaxys IDs)."
   ]
  },
  {
   "cell_type": "code",
   "execution_count": 7,
   "metadata": {},
   "outputs": [
    {
     "name": "stdout",
     "output_type": "stream",
     "text": [
      "{u'request': {u'id': [u'59c5300605581eb9f584df3d']},\n",
      " u'template': {u'_id': u'59c5300605581eb9f584df3d',\n",
      "               u'chiral': False,\n",
      "               u'count': 13,\n",
      "               u'dimer_only': False,\n",
      "               u'explicit_H': False,\n",
      "               u'incompatible_groups': [],\n",
      "               u'intra_only': True,\n",
      "               u'necessary_reagent': u'',\n",
      "               u'reaction_smarts': u'[#7:5]-[C:4](=[O;D1;H0:6])-[c:3]:[c;H0;D3;+0:1](:[#7;a:2])-[N;H0;D3;+0:9](-[C:10])-[c:8]:[#7;a:7]>>Cl-[c;H0;D3;+0:1](:[#7;a:2]):[c:3]-[C:4](-[#7:5])=[O;D1;H0:6].[#7;a:7]:[c:8]-[NH;D2;+0:9]-[C:10]',\n",
      "               u'references': [u'4544223',\n",
      "                               u'5028471',\n",
      "                               u'5028471',\n",
      "                               u'5028471',\n",
      "                               u'5028471',\n",
      "                               u'5029289',\n",
      "                               u'8592467',\n",
      "                               u'8593425',\n",
      "                               u'8593425',\n",
      "                               u'23062042',\n",
      "                               u'23062042',\n",
      "                               u'24072327',\n",
      "                               u'38773479']}}\n"
     ]
    }
   ],
   "source": [
    "params = {\n",
    "    'id': '59c5300605581eb9f584df3d' # required\n",
    "}\n",
    "resp = requests.get(HOST+'/api/template/', params=params)\n",
    "pprint(resp.json())"
   ]
  },
  {
   "cell_type": "markdown",
   "metadata": {},
   "source": [
    "## /api/fast-filter/\n",
    "Given `reactants` and `products`, return coarse-filter `score` which can be interpreted as a likelihood the reaction may be successful. The resulting score should not be assumed to be linearly proportional to likelihood, but instead should be used to identify bad suggestions with low scores."
   ]
  },
  {
   "cell_type": "code",
   "execution_count": 8,
   "metadata": {},
   "outputs": [
    {
     "name": "stdout",
     "output_type": "stream",
     "text": [
      "{u'request': {u'products': [u'CN(C)CCOC(c1ccccc1)c1ccccc1'],\n",
      "              u'reactants': [u'CN(C)CCCl.OC(c1ccccc1)c1ccccc1']},\n",
      " u'score': 0.998188316822052}\n"
     ]
    }
   ],
   "source": [
    "params = {\n",
    "    'reactants': 'CN(C)CCCl.OC(c1ccccc1)c1ccccc1', # required\n",
    "    'products': 'CN(C)CCOC(c1ccccc1)c1ccccc1' # required\n",
    "}\n",
    "resp = requests.get(HOST+'/api/fast-filter/', params=params)\n",
    "pprint(resp.json())"
   ]
  },
  {
   "cell_type": "markdown",
   "metadata": {},
   "source": [
    "## /api/scscore/\n",
    "Given a `smiles` string of a molecule, return the Synthetic Complexity `score`."
   ]
  },
  {
   "cell_type": "code",
   "execution_count": 9,
   "metadata": {},
   "outputs": [
    {
     "name": "stdout",
     "output_type": "stream",
     "text": [
      "{u'request': {u'smiles': [u'OC(c1ccccc1)c1ccccc1']},\n",
      " u'score': 1.5127569539402126}\n"
     ]
    }
   ],
   "source": [
    "params = {\n",
    "    'smiles': 'OC(c1ccccc1)c1ccccc1' # required\n",
    "}\n",
    "resp = requests.get(HOST+'/api/scscore/', params=params)\n",
    "pprint(resp.json())"
   ]
  },
  {
   "cell_type": "markdown",
   "metadata": {},
   "source": [
    "## /api/price/\n",
    "Given a `smiles` string of a molecule, return the `price` (resolved to integer price per gram values) in the buyables database. A price of 0.0 means the cheical is not in the buyables database."
   ]
  },
  {
   "cell_type": "code",
   "execution_count": 10,
   "metadata": {},
   "outputs": [
    {
     "name": "stdout",
     "output_type": "stream",
     "text": [
      "{u'price': 1.0, u'request': {u'smiles': [u'OC(c1ccccc1)c1ccccc1']}}\n"
     ]
    }
   ],
   "source": [
    "params = {\n",
    "    'smiles': 'OC(c1ccccc1)c1ccccc1' # required\n",
    "}\n",
    "resp = requests.get(HOST+'/api/price/', params=params)\n",
    "pprint(resp.json())"
   ]
  },
  {
   "cell_type": "markdown",
   "metadata": {},
   "source": [
    "## /api/celery/\n",
    "Query the status of celery workers on the server. For each queue, the `active` and `available` will sum to the total number of spawned celery workers, where the active workers represent the current number of workers able to complete tasks."
   ]
  },
  {
   "cell_type": "code",
   "execution_count": 11,
   "metadata": {},
   "outputs": [
    {
     "name": "stdout",
     "output_type": "stream",
     "text": [
      "{u'queues': {u'cr_coordinator': {u'active': 0, u'available': 2},\n",
      "             u'cr_network_worker': {u'active': 0, u'available': 2},\n",
      "             u'ft_worker': {u'active': 0, u'available': 2},\n",
      "             u'sc_coordinator': {u'active': 0, u'available': 2},\n",
      "             u'tb_c_worker': {u'active': 7, u'available': 3},\n",
      "             u'tb_coordinator_mcts': {u'active': 0, u'available': 2},\n",
      "             u'te_coordinator': {u'active': 0, u'available': 2}}}\n"
     ]
    }
   ],
   "source": [
    "resp = requests.get(HOST+'/api/celery/')\n",
    "pprint(resp.json())"
   ]
  }
 ],
 "metadata": {
  "kernelspec": {
   "display_name": "Python 3",
   "language": "python",
   "name": "python3"
  },
  "language_info": {
   "codemirror_mode": {
    "name": "ipython",
    "version": 3
   },
   "file_extension": ".py",
   "mimetype": "text/x-python",
   "name": "python",
   "nbconvert_exporter": "python",
   "pygments_lexer": "ipython3",
   "version": "3.5.2"
  }
 },
 "nbformat": 4,
 "nbformat_minor": 2
}
