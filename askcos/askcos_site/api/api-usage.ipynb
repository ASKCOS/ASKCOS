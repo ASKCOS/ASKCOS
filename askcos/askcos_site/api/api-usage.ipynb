{
 "cells": [
  {
   "cell_type": "code",
   "execution_count": 1,
   "metadata": {
    "ExecuteTime": {
     "end_time": "2019-07-24T17:43:57.254590Z",
     "start_time": "2019-07-24T17:43:57.179818Z"
    }
   },
   "outputs": [],
   "source": [
    "import requests\n",
    "from pprint import pprint"
   ]
  },
  {
   "cell_type": "code",
   "execution_count": 2,
   "metadata": {
    "ExecuteTime": {
     "end_time": "2019-07-24T17:43:57.262374Z",
     "start_time": "2019-07-24T17:43:57.257907Z"
    }
   },
   "outputs": [],
   "source": [
    "HOST = 'https://<your-askcos-ip>'"
   ]
  },
  {
   "cell_type": "markdown",
   "metadata": {},
   "source": [
    "# ASKCOS Web API"
   ]
  },
  {
   "cell_type": "markdown",
   "metadata": {},
   "source": [
    "## Endpoints"
   ]
  },
  {
   "cell_type": "markdown",
   "metadata": {},
   "source": [
    "API endpoints exist for the following services (described in more depth below):\n",
    "\n",
    "|Endpoint|Description|\n",
    "|:---|---:|\n",
    "|/api/retro/|Single-step retrosynthetic prediction for a given target molecule|\n",
    "|/api/context/|Context recommender for a reaction|\n",
    "|/api/forward/|Reaction (product) prediction given reactants and context|\n",
    "|/api/treebuilder/|Synthetic pathway tree builder|\n",
    "|/api/template/|Retrosynthetic template lookup|\n",
    "|/api/fast-filter/|Coarse-filter for reactions plausibility|\n",
    "|/api/scscore/|Synthetic complexity score|\n",
    "|/api/price/|Buyable price|\n",
    "|/api/celery/|Query the status of the celery workers|"
   ]
  },
  {
   "cell_type": "markdown",
   "metadata": {},
   "source": [
    "## Making requests"
   ]
  },
  {
   "cell_type": "markdown",
   "metadata": {},
   "source": [
    "GET requests can be made passing in required and optional parameters (service-specific parameters are described below for each endpoint). In many cases, you will be providing SMILES strings, which often may not play well with HTTP. You should always escape your parameters. In the examples below, the `requests` python package allows you to provide the parameters as a dictionary of key-value pairs and takes care of the url escaping for you. If you create your own url queries, please remember to escape your SMILES strings."
   ]
  },
  {
   "cell_type": "markdown",
   "metadata": {},
   "source": [
    "The API now sits at a server that expects communication using HTTPS. By default, a randomly generated self-signed certificate is used, which is considered insecure (despite being much more secure than not using HTTPS at all). The `requests` Python package, by default, will not allow you to use HTTPS to communicate with a server that doesn't have a valid certificate, however this behavior can be overriden by passing `verify=False` to the get request, as shown in the examples below."
   ]
  },
  {
   "cell_type": "markdown",
   "metadata": {},
   "source": [
    "Internally, the code behind the API will be converting any SMILES string you provide to a canonicalized SMILES string. Therefore, the results returned by the API may include a slightly modified string than the result parameters you provided. Keep note of this if using SMILES string searching to parse through results."
   ]
  },
  {
   "cell_type": "markdown",
   "metadata": {},
   "source": [
    "In the examples below, a dictionary named `params` will be built to contain the parameters for each service. `requests.get` will be used, giving the API endpoint and the params dictionary. This returns a `Response` object, and the final results can be obtained using `Response.json()`. The `pprint` module is used to nicely format the JSON results."
   ]
  },
  {
   "cell_type": "markdown",
   "metadata": {},
   "source": [
    "For each `params` dictionary, required key-value pairs will be identified with `# required`, and the rest of the values can be considered optional, as the values used here are the default values used (unless otherwise stated). In these examples, the number of results being returned is being significantly decreased to make this document more readable."
   ]
  },
  {
   "cell_type": "markdown",
   "metadata": {},
   "source": [
    "## /api/retro/  \n",
    "Given a `target` SMILES string, predict precursors. The optional settings adjust how precursors are generated, or filtered after generation.  \n",
    "  \n",
    "The response will be a json with the original request variables as well as `precursors`, a list of the suggested results. The actualsuggested precursor smiles strings are stored in `smiles` (molecules concatenated with '.'), and `smiles_split` (list of molecules)."
   ]
  },
  {
   "cell_type": "code",
   "execution_count": 3,
   "metadata": {
    "ExecuteTime": {
     "end_time": "2019-07-24T17:44:00.231399Z",
     "start_time": "2019-07-24T17:43:57.265938Z"
    }
   },
   "outputs": [
    {
     "name": "stderr",
     "output_type": "stream",
     "text": [
      "/usr/local/lib/python3.5/dist-packages/urllib3/connectionpool.py:847: InsecureRequestWarning: Unverified HTTPS request is being made. Adding certificate verification is strongly advised. See: https://urllib3.readthedocs.io/en/latest/advanced-usage.html#ssl-warnings\n",
      "  InsecureRequestWarning)\n"
     ]
    },
    {
     "name": "stdout",
     "output_type": "stream",
     "text": [
      "{'precursors': [{'necessary_reagent': '',\n",
      "                 'num_examples': 1223,\n",
      "                 'plausibility': 0.998188316822052,\n",
      "                 'rank': 1,\n",
      "                 'score': -0.005976811431568982,\n",
      "                 'smiles': 'CN(C)CCCl.OC(c1ccccc1)c1ccccc1',\n",
      "                 'smiles_split': ['CN(C)CCCl', 'OC(c1ccccc1)c1ccccc1'],\n",
      "                 'template_score': 0.33462658524513245,\n",
      "                 'templates': ['59c5118c05581eb9f5753c93',\n",
      "                               '59c5118c05581eb9f5753c9d']},\n",
      "                {'necessary_reagent': '',\n",
      "                 'num_examples': 915,\n",
      "                 'plausibility': 0.9775225520133972,\n",
      "                 'rank': 2,\n",
      "                 'score': -0.011262814101429644,\n",
      "                 'smiles': 'CN(C)CCO.OC(c1ccccc1)c1ccccc1',\n",
      "                 'smiles_split': ['CN(C)CCO', 'OC(c1ccccc1)c1ccccc1'],\n",
      "                 'template_score': 0.1775755137205124,\n",
      "                 'templates': ['59c5118d05581eb9f5753db4',\n",
      "                               '59c511de05581eb9f5758a9b',\n",
      "                               '59c5122205581eb9f575c32d']},\n",
      "                {'necessary_reagent': '',\n",
      "                 'num_examples': 230,\n",
      "                 'plausibility': 0.9893513321876526,\n",
      "                 'rank': 3,\n",
      "                 'score': -0.013463378679132122,\n",
      "                 'smiles': 'CN(C)CCO.ClC(c1ccccc1)c1ccccc1',\n",
      "                 'smiles_split': ['CN(C)CCO', 'ClC(c1ccccc1)c1ccccc1'],\n",
      "                 'template_score': 0.1485511213541031,\n",
      "                 'templates': ['59c5118e05581eb9f5753df3']}],\n",
      " 'request': {'apply_fast_filter': ['True'],\n",
      "             'filter_threshold': ['0.75'],\n",
      "             'max_cum_prob': ['0.995'],\n",
      "             'mincount': ['0'],\n",
      "             'num_results': ['3'],\n",
      "             'num_templates': ['100'],\n",
      "             'precursor_prioritization': ['RelevanceHeuristic'],\n",
      "             'target': ['CN(C)CCOC(c1ccccc1)c1ccccc1'],\n",
      "             'template_prioritization': ['Relevance']}}\n"
     ]
    }
   ],
   "source": [
    "params = {\n",
    "    # required\n",
    "    'target': 'CN(C)CCOC(c1ccccc1)c1ccccc1',\n",
    "    \n",
    "    # optional with defaults shown\n",
    "    'template_prioritization': 'Relevance',\n",
    "    'precursor_prioritization': 'RelevanceHeuristic',\n",
    "    'mincount': 0,\n",
    "    'num_templates': 100,\n",
    "    'max_cum_prob': 0.995,\n",
    "    'apply_fast_filter': True,\n",
    "    'filter_threshold': 0.75,\n",
    "    \n",
    "    # modified for this example\n",
    "    'num_results': 3 # default is 100\n",
    "}\n",
    "resp = requests.get(HOST+'/api/retro/', params=params, verify=False)\n",
    "pprint(resp.json())"
   ]
  },
  {
   "cell_type": "markdown",
   "metadata": {},
   "source": [
    "## /api/context/\n",
    "Given `reactants` and `products`, suggest reaction contexts (catalyst, reagents, solvents, and temperature). The response will have `contexts`, a list of each suggested context in order of recommendation. The maximum number of results that can be returned is 18."
   ]
  },
  {
   "cell_type": "code",
   "execution_count": 4,
   "metadata": {
    "ExecuteTime": {
     "end_time": "2019-07-24T17:44:01.003378Z",
     "start_time": "2019-07-24T17:44:00.244271Z"
    }
   },
   "outputs": [
    {
     "name": "stderr",
     "output_type": "stream",
     "text": [
      "/usr/local/lib/python3.5/dist-packages/urllib3/connectionpool.py:847: InsecureRequestWarning: Unverified HTTPS request is being made. Adding certificate verification is strongly advised. See: https://urllib3.readthedocs.io/en/latest/advanced-usage.html#ssl-warnings\n",
      "  InsecureRequestWarning)\n"
     ]
    },
    {
     "name": "stdout",
     "output_type": "stream",
     "text": [
      "{'contexts': [{'catalyst': '',\n",
      "               'reagent': 'Cc1ccccc1.[H][N-][H].[Na+]',\n",
      "               'score': 0.3389343023300171,\n",
      "               'solvent': '',\n",
      "               'temperature': 94.4798812866211},\n",
      "              {'catalyst': '',\n",
      "               'reagent': 'c1ccccc1.[H][N-][H].[Na+]',\n",
      "               'score': 0.12604430317878723,\n",
      "               'solvent': '',\n",
      "               'temperature': 101.66520690917969},\n",
      "              {'catalyst': '',\n",
      "               'reagent': 'Cc1ccccc1C.[H][N-][H].[Na+]',\n",
      "               'score': 0.10769638419151306,\n",
      "               'solvent': '',\n",
      "               'temperature': 124.40973663330078},\n",
      "              {'catalyst': '',\n",
      "               'reagent': '',\n",
      "               'score': 0.004865644965320826,\n",
      "               'solvent': 'Cc1ccccc1',\n",
      "               'temperature': 109.34728240966797},\n",
      "              {'catalyst': '',\n",
      "               'reagent': '',\n",
      "               'score': 0.004308402072638273,\n",
      "               'solvent': 'c1ccccc1',\n",
      "               'temperature': 102.02490234375}],\n",
      " 'request': {'num_results': ['5'],\n",
      "             'products': ['CN(C)CCOC(c1ccccc1)c1ccccc1'],\n",
      "             'reactants': ['CN(C)CCCl.OC(c1ccccc1)c1ccccc1'],\n",
      "             'return_scores': ['true']}}\n"
     ]
    }
   ],
   "source": [
    "params = {\n",
    "    'reactants': 'CN(C)CCCl.OC(c1ccccc1)c1ccccc1', #required\n",
    "    'products': 'CN(C)CCOC(c1ccccc1)c1ccccc1', #required\n",
    "    \n",
    "    'num_results': 5, # default is 10\n",
    "    'return_scores': 'true' # default is false\n",
    "}\n",
    "resp = requests.get(HOST+'/api/context/', params=params, verify=False)\n",
    "pprint(resp.json())"
   ]
  },
  {
   "cell_type": "markdown",
   "metadata": {},
   "source": [
    "## /api/forward/\n",
    "Given `reactants`, and optionally `reagents` and `solvent`, suggest probably products. The response will have `outcomes`, with `smiles` of the product, `prob` (probability) of this being the major product, and relative `score` for reach suggestion."
   ]
  },
  {
   "cell_type": "code",
   "execution_count": 5,
   "metadata": {
    "ExecuteTime": {
     "end_time": "2019-07-24T17:44:03.944733Z",
     "start_time": "2019-07-24T17:44:01.006253Z"
    }
   },
   "outputs": [
    {
     "name": "stderr",
     "output_type": "stream",
     "text": [
      "/usr/local/lib/python3.5/dist-packages/urllib3/connectionpool.py:847: InsecureRequestWarning: Unverified HTTPS request is being made. Adding certificate verification is strongly advised. See: https://urllib3.readthedocs.io/en/latest/advanced-usage.html#ssl-warnings\n",
      "  InsecureRequestWarning)\n"
     ]
    },
    {
     "name": "stdout",
     "output_type": "stream",
     "text": [
      "{'outcomes': [{'prob': 0.9115045620575345,\n",
      "               'rank': 1,\n",
      "               'score': -63.30739974975586,\n",
      "               'smiles': 'CN(C)CCOC(c1ccccc1)c1ccccc1'},\n",
      "              {'prob': 0.08476252470830846,\n",
      "               'rank': 2,\n",
      "               'score': -65.68264284833658,\n",
      "               'smiles': 'c1ccc(Cc2ccccc2)cc1'},\n",
      "              {'prob': 0.0018071342418599589,\n",
      "               'rank': 3,\n",
      "               'score': -69.53075408935547,\n",
      "               'smiles': 'CN(C)CCC(c1ccccc1)c1ccccc1'},\n",
      "              {'prob': 0.0007843034582285129,\n",
      "               'rank': 4,\n",
      "               'score': -70.3654556274414,\n",
      "               'smiles': 'CN(C)CCC(O)(c1ccccc1)c1ccccc1'},\n",
      "              {'prob': 0.00048256904120668755,\n",
      "               'rank': 5,\n",
      "               'score': -70.85112762451172,\n",
      "               'smiles': 'CCN(C)C'}],\n",
      " 'request': {'num_results': ['5'],\n",
      "             'reactants': ['CN(C)CCCl.OC(c1ccccc1)c1ccccc1'],\n",
      "             'reagents': [''],\n",
      "             'solvent': ['']}}\n"
     ]
    }
   ],
   "source": [
    "params = {\n",
    "    'reactants': 'CN(C)CCCl.OC(c1ccccc1)c1ccccc1', #required\n",
    "    \n",
    "    # optional with defaults shown\n",
    "    'reagents': '',\n",
    "    'solvent': '',\n",
    "    \n",
    "    'num_results': 5 # default is 100\n",
    "}\n",
    "resp = requests.get(HOST+'/api/forward/?', params=params, verify=False)\n",
    "pprint(resp.json())"
   ]
  },
  {
   "cell_type": "markdown",
   "metadata": {},
   "source": [
    "## /api/treebuilder/\n",
    "Given the `smiles` of a target molecule, and various optional settings, resolve possible synthetic pathways terminating according to the stopping criteria provided through settings. The results are structued as a nested dictionary, where the children of chemicals are reactions and the children of reactions are chemicals."
   ]
  },
  {
   "cell_type": "code",
   "execution_count": 6,
   "metadata": {
    "ExecuteTime": {
     "end_time": "2019-07-24T17:44:05.243981Z",
     "start_time": "2019-07-24T17:44:03.947766Z"
    }
   },
   "outputs": [
    {
     "name": "stderr",
     "output_type": "stream",
     "text": [
      "/usr/local/lib/python3.5/dist-packages/urllib3/connectionpool.py:847: InsecureRequestWarning: Unverified HTTPS request is being made. Adding certificate verification is strongly advised. See: https://urllib3.readthedocs.io/en/latest/advanced-usage.html#ssl-warnings\n",
      "  InsecureRequestWarning)\n"
     ]
    },
    {
     "name": "stdout",
     "output_type": "stream",
     "text": [
      "{'request': {'chemical_popularity_logic': ['none'],\n",
      "             'chemical_property_logic': ['none'],\n",
      "             'expansion_time': ['60'],\n",
      "             'filter_threshold': ['0.75'],\n",
      "             'max_branching': ['25'],\n",
      "             'max_chemprop_c': ['0'],\n",
      "             'max_chemprop_h': ['0'],\n",
      "             'max_chemprop_n': ['0'],\n",
      "             'max_chemprop_o': ['0'],\n",
      "             'max_cum_prob': ['0.995'],\n",
      "             'max_depth': ['4'],\n",
      "             'max_ppg': ['10'],\n",
      "             'min_chempop_products': ['5'],\n",
      "             'min_chempop_reactants': ['5'],\n",
      "             'return_first': ['true'],\n",
      "             'smiles': ['CN(C)CCOC(c1ccccc1)c1ccccc1'],\n",
      "             'template_count': ['100']},\n",
      " 'trees': [{'as_product': 44,\n",
      "            'as_reactant': 59,\n",
      "            'children': [{'children': [{'as_product': 172,\n",
      "                                        'as_reactant': 4651,\n",
      "                                        'children': [],\n",
      "                                        'id': 1,\n",
      "                                        'is_chemical': True,\n",
      "                                        'ppg': 1.0,\n",
      "                                        'smiles': 'CN(C)CCCl'},\n",
      "                                       {'as_product': 2004,\n",
      "                                        'as_reactant': 5783,\n",
      "                                        'children': [],\n",
      "                                        'id': 2,\n",
      "                                        'is_chemical': True,\n",
      "                                        'ppg': 1.0,\n",
      "                                        'smiles': 'OC(c1ccccc1)c1ccccc1'}],\n",
      "                          'id': 3,\n",
      "                          'is_reaction': True,\n",
      "                          'necessary_reagent': '',\n",
      "                          'num_examples': 607,\n",
      "                          'plausibility': 0.998188316822052,\n",
      "                          'smiles': 'CN(C)CCCl.OC(c1ccccc1)c1ccccc1>>CN(C)CCOC(c1ccccc1)c1ccccc1',\n",
      "                          'template_score': 0.33462631702423096,\n",
      "                          'tforms': ['59c5118c05581eb9f5753c93']}],\n",
      "            'id': 4,\n",
      "            'is_chemical': True,\n",
      "            'ppg': 1.0,\n",
      "            'smiles': 'CN(C)CCOC(c1ccccc1)c1ccccc1'},\n",
      "           {'as_product': 44,\n",
      "            'as_reactant': 59,\n",
      "            'children': [{'children': [{'as_product': 383,\n",
      "                                        'as_reactant': 3643,\n",
      "                                        'children': [],\n",
      "                                        'id': 5,\n",
      "                                        'is_chemical': True,\n",
      "                                        'ppg': 1.0,\n",
      "                                        'smiles': 'CN(C)CCO'},\n",
      "                                       {'as_product': 2004,\n",
      "                                        'as_reactant': 5783,\n",
      "                                        'children': [],\n",
      "                                        'id': 2,\n",
      "                                        'is_chemical': True,\n",
      "                                        'ppg': 1.0,\n",
      "                                        'smiles': 'OC(c1ccccc1)c1ccccc1'}],\n",
      "                          'id': 6,\n",
      "                          'is_reaction': True,\n",
      "                          'necessary_reagent': '',\n",
      "                          'num_examples': 266,\n",
      "                          'plausibility': 0.9775225520133972,\n",
      "                          'smiles': 'CN(C)CCO.OC(c1ccccc1)c1ccccc1>>CN(C)CCOC(c1ccccc1)c1ccccc1',\n",
      "                          'template_score': 0.177575021982193,\n",
      "                          'tforms': ['59c5118d05581eb9f5753db4']}],\n",
      "            'id': 4,\n",
      "            'is_chemical': True,\n",
      "            'ppg': 1.0,\n",
      "            'smiles': 'CN(C)CCOC(c1ccccc1)c1ccccc1'}]}\n"
     ]
    }
   ],
   "source": [
    "params = {\n",
    "    'smiles': 'CN(C)CCOC(c1ccccc1)c1ccccc1', # required\n",
    "    \n",
    "    # optional with defaults shown\n",
    "    'max_depth': 4,\n",
    "    'max_branching': 25,\n",
    "    'expansion_time': 60,\n",
    "    'max_ppg': 10,\n",
    "    'template_count': 100,\n",
    "    'max_cum_prob': 0.995,\n",
    "    'chemical_property_logic': 'none',\n",
    "    'max_chemprop_c': 0,\n",
    "    'max_chemprop_n': 0,\n",
    "    'max_chemprop_o': 0,\n",
    "    'max_chemprop_h': 0,\n",
    "    'chemical_popularity_logic': 'none',\n",
    "    'min_chempop_reactants': 5,\n",
    "    'min_chempop_products': 5,\n",
    "    'filter_threshold': 0.75,\n",
    "    \n",
    "    'return_first': 'true' # default is false\n",
    "}\n",
    "resp = requests.get(HOST+'/api/treebuilder/', params=params, verify=False)\n",
    "pprint(resp.json())"
   ]
  },
  {
   "cell_type": "markdown",
   "metadata": {},
   "source": [
    "## /api/template/\n",
    "Given a template `id` (these are returned with `/api/retro/` precursors) look up template details, such as `reaction_smarts`, and `references` (Reaxys IDs)."
   ]
  },
  {
   "cell_type": "code",
   "execution_count": 7,
   "metadata": {
    "ExecuteTime": {
     "end_time": "2019-07-24T17:44:05.432204Z",
     "start_time": "2019-07-24T17:44:05.246666Z"
    }
   },
   "outputs": [
    {
     "name": "stdout",
     "output_type": "stream",
     "text": [
      "{'request': {'id': ['59c5300605581eb9f584df3d']},\n",
      " 'template': {'_id': '59c5300605581eb9f584df3d',\n",
      "              'count': 13,\n",
      "              'dimer_only': False,\n",
      "              'intra_only': True,\n",
      "              'necessary_reagent': '',\n",
      "              'reaction_smarts': '[#7:5]-[C:4](=[O;D1;H0:6])-[c:3]:[c;H0;D3;+0:1](:[#7;a:2])-[N;H0;D3;+0:9](-[C:10])-[c:8]:[#7;a:7]>>Cl-[c;H0;D3;+0:1](:[#7;a:2]):[c:3]-[C:4](-[#7:5])=[O;D1;H0:6].[#7;a:7]:[c:8]-[NH;D2;+0:9]-[C:10]',\n",
      "              'references': ['4544223',\n",
      "                             '5028471',\n",
      "                             '5028471',\n",
      "                             '5028471',\n",
      "                             '5028471',\n",
      "                             '5029289',\n",
      "                             '8592467',\n",
      "                             '8593425',\n",
      "                             '8593425',\n",
      "                             '23062042',\n",
      "                             '23062042',\n",
      "                             '24072327',\n",
      "                             '38773479']}}\n"
     ]
    },
    {
     "name": "stderr",
     "output_type": "stream",
     "text": [
      "/usr/local/lib/python3.5/dist-packages/urllib3/connectionpool.py:847: InsecureRequestWarning: Unverified HTTPS request is being made. Adding certificate verification is strongly advised. See: https://urllib3.readthedocs.io/en/latest/advanced-usage.html#ssl-warnings\n",
      "  InsecureRequestWarning)\n"
     ]
    }
   ],
   "source": [
    "params = {\n",
    "    'id': '59c5300605581eb9f584df3d' # required\n",
    "}\n",
    "resp = requests.get(HOST+'/api/template/', params=params, verify=False)\n",
    "pprint(resp.json())"
   ]
  },
  {
   "cell_type": "markdown",
   "metadata": {},
   "source": [
    "## /api/fast-filter/\n",
    "Given `reactants` and `products`, return coarse-filter `score` which can be interpreted as a likelihood the reaction may be successful. The resulting score should not be assumed to be linearly proportional to likelihood, but instead should be used to identify bad suggestions with low scores."
   ]
  },
  {
   "cell_type": "code",
   "execution_count": 8,
   "metadata": {
    "ExecuteTime": {
     "end_time": "2019-07-24T17:44:05.671010Z",
     "start_time": "2019-07-24T17:44:05.437899Z"
    }
   },
   "outputs": [
    {
     "name": "stderr",
     "output_type": "stream",
     "text": [
      "/usr/local/lib/python3.5/dist-packages/urllib3/connectionpool.py:847: InsecureRequestWarning: Unverified HTTPS request is being made. Adding certificate verification is strongly advised. See: https://urllib3.readthedocs.io/en/latest/advanced-usage.html#ssl-warnings\n",
      "  InsecureRequestWarning)\n"
     ]
    },
    {
     "name": "stdout",
     "output_type": "stream",
     "text": [
      "{'request': {'products': ['CN(C)CCOC(c1ccccc1)c1ccccc1'],\n",
      "             'reactants': ['CN(C)CCCl.OC(c1ccccc1)c1ccccc1']},\n",
      " 'score': 0.998188316822052}\n"
     ]
    }
   ],
   "source": [
    "params = {\n",
    "    'reactants': 'CN(C)CCCl.OC(c1ccccc1)c1ccccc1', # required\n",
    "    'products': 'CN(C)CCOC(c1ccccc1)c1ccccc1' # required\n",
    "}\n",
    "resp = requests.get(HOST+'/api/fast-filter/', params=params, verify=False)\n",
    "pprint(resp.json())"
   ]
  },
  {
   "cell_type": "markdown",
   "metadata": {},
   "source": [
    "## /api/scscore/\n",
    "Given a `smiles` string of a molecule, return the Synthetic Complexity `score`."
   ]
  },
  {
   "cell_type": "code",
   "execution_count": 9,
   "metadata": {
    "ExecuteTime": {
     "end_time": "2019-07-24T17:44:05.833071Z",
     "start_time": "2019-07-24T17:44:05.675850Z"
    }
   },
   "outputs": [
    {
     "name": "stdout",
     "output_type": "stream",
     "text": [
      "{'request': {'smiles': ['OC(c1ccccc1)c1ccccc1']}, 'score': 1.5127569539402126}\n"
     ]
    },
    {
     "name": "stderr",
     "output_type": "stream",
     "text": [
      "/usr/local/lib/python3.5/dist-packages/urllib3/connectionpool.py:847: InsecureRequestWarning: Unverified HTTPS request is being made. Adding certificate verification is strongly advised. See: https://urllib3.readthedocs.io/en/latest/advanced-usage.html#ssl-warnings\n",
      "  InsecureRequestWarning)\n"
     ]
    }
   ],
   "source": [
    "params = {\n",
    "    'smiles': 'OC(c1ccccc1)c1ccccc1' # required\n",
    "}\n",
    "resp = requests.get(HOST+'/api/scscore/', params=params, verify=False)\n",
    "pprint(resp.json())"
   ]
  },
  {
   "cell_type": "markdown",
   "metadata": {},
   "source": [
    "## /api/price/\n",
    "Given a `smiles` string of a molecule, return the `price` (resolved to integer price per gram values) in the buyables database. A price of 0.0 means the cheical is not in the buyables database."
   ]
  },
  {
   "cell_type": "code",
   "execution_count": 10,
   "metadata": {
    "ExecuteTime": {
     "end_time": "2019-07-24T17:44:05.999042Z",
     "start_time": "2019-07-24T17:44:05.838393Z"
    }
   },
   "outputs": [
    {
     "name": "stderr",
     "output_type": "stream",
     "text": [
      "/usr/local/lib/python3.5/dist-packages/urllib3/connectionpool.py:847: InsecureRequestWarning: Unverified HTTPS request is being made. Adding certificate verification is strongly advised. See: https://urllib3.readthedocs.io/en/latest/advanced-usage.html#ssl-warnings\n",
      "  InsecureRequestWarning)\n"
     ]
    },
    {
     "name": "stdout",
     "output_type": "stream",
     "text": [
      "{'price': 1.0, 'request': {'smiles': ['OC(c1ccccc1)c1ccccc1']}}\n"
     ]
    }
   ],
   "source": [
    "params = {\n",
    "    'smiles': 'OC(c1ccccc1)c1ccccc1' # required\n",
    "}\n",
    "resp = requests.get(HOST+'/api/price/', params=params, verify=False)\n",
    "pprint(resp.json())"
   ]
  },
  {
   "cell_type": "markdown",
   "metadata": {},
   "source": [
    "## /api/celery/\n",
    "Query the status of celery workers on the server. For each queue, the `active` and `available` will sum to the total number of spawned celery workers, where the active workers represent the current number of workers able to complete tasks."
   ]
  },
  {
   "cell_type": "code",
   "execution_count": 11,
   "metadata": {
    "ExecuteTime": {
     "end_time": "2019-07-24T17:44:08.294022Z",
     "start_time": "2019-07-24T17:44:06.001952Z"
    }
   },
   "outputs": [
    {
     "name": "stderr",
     "output_type": "stream",
     "text": [
      "/usr/local/lib/python3.5/dist-packages/urllib3/connectionpool.py:847: InsecureRequestWarning: Unverified HTTPS request is being made. Adding certificate verification is strongly advised. See: https://urllib3.readthedocs.io/en/latest/advanced-usage.html#ssl-warnings\n",
      "  InsecureRequestWarning)\n"
     ]
    },
    {
     "name": "stdout",
     "output_type": "stream",
     "text": [
      "{'queues': [{'available': 2,\n",
      "             'busy': 0,\n",
      "             'name': 'Context Recommender Coordinator',\n",
      "             'queue': 'cr_coordinator'},\n",
      "            {'available': 2,\n",
      "             'busy': 0,\n",
      "             'name': 'Context Recommender Worker',\n",
      "             'queue': 'cr_network_worker'},\n",
      "            {'available': 2,\n",
      "             'busy': 0,\n",
      "             'name': 'Forward Predictor Scoring Coordinator',\n",
      "             'queue': 'sc_coordinator'},\n",
      "            {'available': 2,\n",
      "             'busy': 0,\n",
      "             'name': 'Forward Predictor Worker',\n",
      "             'queue': 'ft_worker'},\n",
      "            {'available': 10,\n",
      "             'busy': 0,\n",
      "             'name': 'One-Step/Tree Builder Retrosynthesis Worker',\n",
      "             'queue': 'tb_c_worker'},\n",
      "            {'available': 2,\n",
      "             'busy': 0,\n",
      "             'name': 'Tree Builder Coordinator',\n",
      "             'queue': 'tb_coordinator_mcts'},\n",
      "            {'available': 2,\n",
      "             'busy': 0,\n",
      "             'name': 'Tree Evaluation Coordinator',\n",
      "             'queue': 'te_coordinator'}]}\n"
     ]
    }
   ],
   "source": [
    "resp = requests.get(HOST+'/api/celery/', verify=False)\n",
    "pprint(resp.json())"
   ]
  }
 ],
 "metadata": {
  "kernelspec": {
   "display_name": "Python 3",
   "language": "python",
   "name": "python3"
  },
  "language_info": {
   "codemirror_mode": {
    "name": "ipython",
    "version": 3
   },
   "file_extension": ".py",
   "mimetype": "text/x-python",
   "name": "python",
   "nbconvert_exporter": "python",
   "pygments_lexer": "ipython3",
   "version": "3.5.2"
  }
 },
 "nbformat": 4,
 "nbformat_minor": 2
}
